{
 "cells": [
  {
   "cell_type": "markdown",
   "metadata": {},
   "source": [
    "## Data Preparation \n",
    "\n",
    "We have observed that our dataset is extremely imbalanced by doing various operations detailed in the data_munging python notebook. Now we will solely focus on the data preparation part so that we can have a better model accuracy."
   ]
  },
  {
   "cell_type": "markdown",
   "metadata": {},
   "source": [
    "First we will fetch the work from the \"data_munging\" notebook so that we can avoid doing that work all over again. "
   ]
  },
  {
   "cell_type": "code",
   "execution_count": 59,
   "metadata": {},
   "outputs": [],
   "source": [
    "import import_ipynb\n",
    "import data_munging"
   ]
  },
  {
   "cell_type": "markdown",
   "metadata": {},
   "source": [
    "First we will go for feature selection in order to remove redundant features from the data. We will use the RandomForestClassifer model to see the importance of each feature in reducing the impurity of a split which indirectly shows how important it is to the prediction.  "
   ]
  },
  {
   "cell_type": "code",
   "execution_count": 60,
   "metadata": {},
   "outputs": [
    {
     "data": {
      "image/png": "[encoded data removed]",
      "text/plain": [
       "<Figure size 432x288 with 1 Axes>"
      ]
     },
     "metadata": {
      "needs_background": "light"
     },
     "output_type": "display_data"
    }
   ],
   "source": [
    "from sklearn.ensemble import RandomForestClassifier\n",
    "import numpy as np \n",
    "\n",
    "np.random.seed(42)\n",
    "\n",
    "X = df.drop('Class', axis=1)\n",
    "y = df['Class']\n",
    "\n",
    "rf_model = RandomForestClassifier()\n",
    "rf_model.fit(X, y)\n",
    "\n",
    "feat_importances = pd.Series(rf_model.feature_importances_, index=X.columns)\n",
    "df_feature_importances = feat_importances.nlargest(30)\n",
    "df_feature_importances.plot(kind='barh')\n",
    "plt.show()"
   ]
  },
  {
   "cell_type": "markdown",
   "metadata": {},
   "source": [
    "We can see that 15 features could be enough for our purposes from the above horizontal bar chart. "
   ]
  },
  {
   "cell_type": "code",
   "execution_count": 74,
   "metadata": {},
   "outputs": [
    {
     "data": {
      "text/plain": [
       "Index(['V17', 'V12', 'V14', 'V16', 'V10', 'V11', 'V18', 'V9', 'V7', 'V4',\n",
       "       'V26', 'V3', 'V21', 'V2', 'V8'],\n",
       "      dtype='object')"
      ]
     },
     "execution_count": 74,
     "metadata": {},
     "output_type": "execute_result"
    }
   ],
   "source": [
    "str_list = df_feature_importances.index\n",
    "str_list = str_list.to_list()[:15]\n",
    "X = df.loc[:, str_list]\n",
    "X.columns"
   ]
  },
  {
   "cell_type": "markdown",
   "metadata": {},
   "source": [
    "With the feature selection done, we will now split the data into training and test sets."
   ]
  },
  {
   "cell_type": "code",
   "execution_count": 75,
   "metadata": {},
   "outputs": [],
   "source": [
    "from sklearn.model_selection import train_test_split\n",
    "\n",
    "X_train, X_test, y_train, y_test = train_test_split(X, y, test_size=0.33, random_state=42)"
   ]
  },
  {
   "cell_type": "markdown",
   "metadata": {},
   "source": [
    "We know that there are a large number of non fraudulent transaction related records and only a few fraudulent ones.<br/>\n",
    "In order to prevent loss of information, we would first try oversampling the minority class. For this we would be using the SMOTE technique. "
   ]
  },
  {
   "cell_type": "markdown",
   "metadata": {},
   "source": [
    "Note: The train test data split should be done before the oversampling so as to avoid \"bleeding\" of information from the validation set. If this were to happen, our model would face the problem of overfitting and would not be able to generalize well. "
   ]
  },
  {
   "cell_type": "code",
   "execution_count": 84,
   "metadata": {},
   "outputs": [
    {
     "name": "stdout",
     "output_type": "stream",
     "text": [
      "Size before sampling for X_train:  (190820, 15)\n",
      "Size after sampling for X_train:  (380954, 15)\n",
      "Size before sampling for y_train:  (190820,)\n",
      "Size after sampling for X_train:  (380954,)\n"
     ]
    }
   ],
   "source": [
    "from imblearn.over_sampling import SMOTE\n",
    "\n",
    "\n",
    "sm = SMOTE(random_state=42)\n",
    "\n",
    "X_train_smote, y_train_smote = sm.fit_resample(X_train, y_train) \n",
    "print(\"Size before sampling for X_train: \", X_train.shape)\n",
    "print(\"Size after sampling for X_train: \", X_train_smote.shape)\n",
    "print(\"Size before sampling for y_train: \", y_train.shape)\n",
    "print(\"Size after sampling for X_train: \", y_train_smote.shape)"
   ]
  },
  {
   "cell_type": "code",
   "execution_count": 82,
   "metadata": {},
   "outputs": [
    {
     "name": "stdout",
     "output_type": "stream",
     "text": [
      "Size before sampling for X_train:  (190820, 15)\n",
      "Size after sampling for X_train:  (380961, 15)\n",
      "Size before sampling for y_train:  (190820,)\n",
      "Size after sampling for X_train:  (380961,)\n"
     ]
    }
   ],
   "source": [
    "from imblearn.over_sampling import ADASYN\n",
    "\n",
    "ada = ADASYN(random_state=42)\n",
    "X_train_adasyn, y_train_adasyn = ada.fit_resample(X_train, y_train)\n",
    "print(\"Size before sampling for X_train: \", X_train.shape)\n",
    "print(\"Size after sampling for X_train: \", X_train_adasyn.shape)\n",
    "print(\"Size before sampling for y_train: \", y_train.shape)\n",
    "print(\"Size after sampling for X_train: \", y_train_adasyn.shape)"
   ]
  },
  {
   "cell_type": "code",
   "execution_count": 85,
   "metadata": {},
   "outputs": [
    {
     "name": "stdout",
     "output_type": "stream",
     "text": [
      "Stored 'X_train_smote' (DataFrame)\n",
      "Stored 'y_train_smote' (Series)\n",
      "Stored 'X_train_adasyn' (DataFrame)\n",
      "Stored 'y_train_adasyn' (Series)\n",
      "Stored 'X_train' (DataFrame)\n",
      "Stored 'y_train' (Series)\n",
      "Stored 'X_test' (DataFrame)\n",
      "Stored 'y_test' (Series)\n"
     ]
    }
   ],
   "source": [
    "%store X_train_smote\n",
    "%store y_train_smote\n",
    "%store X_train_adasyn\n",
    "%store y_train_adasyn \n",
    "%store X_train \n",
    "%store y_train\n",
    "%store X_test\n",
    "%store y_test"
   ]
  }
 ],
 "metadata": {
  "interpreter": {
   "hash": "ac59ebe37160ed0dfa835113d9b8498d9f09ceb179beaac4002f036b9467c963"
  },
  "kernelspec": {
   "display_name": "Python 3.9.8 64-bit",
   "language": "python",
   "name": "python3"
  },
  "language_info": {
   "codemirror_mode": {
    "name": "ipython",
    "version": 3
   },
   "file_extension": ".py",
   "mimetype": "text/x-python",
   "name": "python",
   "nbconvert_exporter": "python",
   "pygments_lexer": "ipython3",
   "version": "3.9.8"
  },
  "orig_nbformat": 4
 },
 "nbformat": 4,
 "nbformat_minor": 2
}
