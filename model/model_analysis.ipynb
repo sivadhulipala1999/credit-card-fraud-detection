{
 "cells": [
  {
   "cell_type": "markdown",
   "metadata": {},
   "source": [
    "## Modelling Stage \n",
    "\n",
    "So far we have completed the cleaning and the preparation of the data in our EDA phase. <br/>\n",
    "Now we shall be feeding this prepared data to multiple models to choose which one would work the best in our case.<br/>\n",
    "\n",
    "Each model would be judged on the basis of the precision, recall values. "
   ]
  },
  {
   "cell_type": "markdown",
   "metadata": {},
   "source": [
    "First let us load variables from the data_preparation notebook into this notebook "
   ]
  },
  {
   "cell_type": "code",
   "execution_count": 54,
   "metadata": {},
   "outputs": [],
   "source": [
    "%store -r X_train_smote\n",
    "%store -r y_train_smote\n",
    "%store -r X_train_adasyn\n",
    "%store -r y_train_adasyn \n",
    "%store -r X_train\n",
    "%store -r y_train \n",
    "%store -r X_test\n",
    "%store -r y_test"
   ]
  },
  {
   "cell_type": "markdown",
   "metadata": {},
   "source": [
    "### 1. Naive Bayes Classifier \n",
    "\n",
    "The simplest classification algorithm of them all. This classifier assumes that all the variables are independent of each other and then outputs the probability of a data point belonging to a particular class using the Bayes' theorem of conditional probability. "
   ]
  },
  {
   "cell_type": "code",
   "execution_count": 56,
   "metadata": {},
   "outputs": [
    {
     "name": "stdout",
     "output_type": "stream",
     "text": [
      "For Naive Bayes Classifier\n",
      "Precision score:  0.06517412935323383\n",
      "Recall score:  0.8791946308724832\n"
     ]
    }
   ],
   "source": [
    "from sklearn.naive_bayes import GaussianNB\n",
    "from sklearn.metrics import precision_score, recall_score, confusion_matrix \n",
    "\n",
    "nb_classifier = GaussianNB()\n",
    "nb_classifier.fit(X_train_smote, y_train_smote)\n",
    "y_predict = nb_classifier.predict(X_test)\n",
    "\n",
    "\n",
    "print(\"For Naive Bayes Classifier\")\n",
    "print(\"Precision score: \", precision_score(y_test, y_predict))\n",
    "print(\"Recall score: \", recall_score(y_test, y_predict))\n"
   ]
  },
  {
   "cell_type": "code",
   "execution_count": 55,
   "metadata": {},
   "outputs": [
    {
     "name": "stdout",
     "output_type": "stream",
     "text": [
      "For Naive Bayes Classifier\n",
      "Precision score:  0.037485907553551294\n",
      "Recall score:  0.8926174496644296\n"
     ]
    }
   ],
   "source": [
    "from sklearn.naive_bayes import GaussianNB\n",
    "from sklearn.metrics import precision_score, recall_score, confusion_matrix \n",
    "\n",
    "nb_classifier = GaussianNB()\n",
    "nb_classifier.fit(X_train_adasyn, y_train_adasyn)\n",
    "y_predict = nb_classifier.predict(X_test)\n",
    "\n",
    "\n",
    "print(\"For Naive Bayes Classifier\")\n",
    "print(\"Precision score: \", precision_score(y_test, y_predict))\n",
    "print(\"Recall score: \", recall_score(y_test, y_predict))\n"
   ]
  },
  {
   "cell_type": "code",
   "execution_count": null,
   "metadata": {},
   "outputs": [
    {
     "name": "stdout",
     "output_type": "stream",
     "text": [
      "For Naive Bayes Classifier\n",
      "Precision score:  0.037485907553551294\n",
      "Recall score:  0.8926174496644296\n"
     ]
    }
   ],
   "source": [
    "from sklearn.naive_bayes import GaussianNB\n",
    "from sklearn.metrics import precision_score, recall_score, confusion_matrix \n",
    "\n",
    "nb_classifier = GaussianNB()\n",
    "nb_classifier.fit(X_train, y_train)\n",
    "y_predict = nb_classifier.predict(X_test)\n",
    "\n",
    "\n",
    "print(\"For Naive Bayes Classifier\")\n",
    "print(\"Precision score: \", precision_score(y_test, y_predict))\n",
    "print(\"Recall score: \", recall_score(y_test, y_predict))\n"
   ]
  },
  {
   "cell_type": "markdown",
   "metadata": {},
   "source": [
    "A really bad precision score and a decent recall score. Time to change the model to see if there is a change. "
   ]
  },
  {
   "cell_type": "markdown",
   "metadata": {},
   "source": [
    "### 2. Logistic Regression Classifier"
   ]
  },
  {
   "cell_type": "code",
   "execution_count": 57,
   "metadata": {},
   "outputs": [
    {
     "name": "stdout",
     "output_type": "stream",
     "text": [
      "For Logistic Regression based classifier\n",
      "Precision score:  0.05697770437654831\n",
      "Recall score:  0.9261744966442953\n"
     ]
    }
   ],
   "source": [
    "from sklearn.linear_model import LogisticRegression\n",
    "\n",
    "log_reg_clf = LogisticRegression(random_state=42).fit(X_train_smote, y_train_smote)\n",
    "y_predict = log_reg_clf.predict(X_test)\n",
    "\n",
    "print(\"For Logistic Regression based classifier\")\n",
    "print(\"Precision score: \", precision_score(y_test, y_predict))\n",
    "print(\"Recall score: \", recall_score(y_test, y_predict))"
   ]
  },
  {
   "cell_type": "code",
   "execution_count": 58,
   "metadata": {},
   "outputs": [
    {
     "name": "stdout",
     "output_type": "stream",
     "text": [
      "For Logistic Regression based classifier\n",
      "Precision score:  0.015059921518718846\n",
      "Recall score:  0.9530201342281879\n"
     ]
    }
   ],
   "source": [
    "from sklearn.linear_model import LogisticRegression\n",
    "\n",
    "log_reg_clf = LogisticRegression(random_state=42).fit(X_train_adasyn, y_train_adasyn)\n",
    "y_predict = log_reg_clf.predict(X_test)\n",
    "\n",
    "print(\"For Logistic Regression based classifier\")\n",
    "print(\"Precision score: \", precision_score(y_test, y_predict))\n",
    "print(\"Recall score: \", recall_score(y_test, y_predict))"
   ]
  },
  {
   "cell_type": "code",
   "execution_count": 59,
   "metadata": {},
   "outputs": [
    {
     "name": "stdout",
     "output_type": "stream",
     "text": [
      "For Logistic Regression based classifier\n",
      "Precision score:  0.8623853211009175\n",
      "Recall score:  0.6308724832214765\n"
     ]
    }
   ],
   "source": [
    "from sklearn.linear_model import LogisticRegression\n",
    "\n",
    "log_reg_clf = LogisticRegression(random_state=42).fit(X_train, y_train)\n",
    "y_predict = log_reg_clf.predict(X_test)\n",
    "\n",
    "print(\"For Logistic Regression based classifier\")\n",
    "print(\"Precision score: \", precision_score(y_test, y_predict))\n",
    "print(\"Recall score: \", recall_score(y_test, y_predict))"
   ]
  },
  {
   "cell_type": "markdown",
   "metadata": {},
   "source": [
    "### 3. Random Forest Classifier "
   ]
  },
  {
   "cell_type": "code",
   "execution_count": 51,
   "metadata": {},
   "outputs": [
    {
     "name": "stdout",
     "output_type": "stream",
     "text": [
      "For Random Forest classifier\n",
      "Precision score:  0.803680981595092\n",
      "Recall score:  0.8791946308724832\n"
     ]
    }
   ],
   "source": [
    "from sklearn.ensemble import RandomForestClassifier\n",
    "\n",
    "rf_clf = RandomForestClassifier(random_state=42)\n",
    "rf_clf.fit(X_train_smote, y_train_smote)\n",
    "y_predict = rf_clf.predict(X_test)\n",
    "\n",
    "print(\"For Random Forest classifier\")\n",
    "print(\"Precision score: \", precision_score(y_test, y_predict))\n",
    "print(\"Recall score: \", recall_score(y_test, y_predict))"
   ]
  },
  {
   "cell_type": "code",
   "execution_count": 60,
   "metadata": {},
   "outputs": [],
   "source": [
    "from sklearn.ensemble import RandomForestClassifier\n",
    "\n",
    "rf_clf = RandomForestClassifier(random_state=42)\n",
    "rf_clf.fit(X_train_adasyn, y_train_adasyn)\n",
    "y_predict = rf_clf.predict(X_test)\n",
    "\n",
    "print(\"For Random Forest classifier\")\n",
    "print(\"Precision score: \", precision_score(y_test, y_predict))\n",
    "print(\"Recall score: \", recall_score(y_test, y_predict))"
   ]
  },
  {
   "cell_type": "code",
   "execution_count": null,
   "metadata": {},
   "outputs": [
    {
     "name": "stdout",
     "output_type": "stream",
     "text": [
      "For Random Forest classifier\n",
      "Precision score:  0.803680981595092\n",
      "Recall score:  0.8791946308724832\n"
     ]
    }
   ],
   "source": [
    "from sklearn.ensemble import RandomForestClassifier\n",
    "\n",
    "rf_clf = RandomForestClassifier(random_state=42)\n",
    "rf_clf.fit(X_train, y_train)\n",
    "y_predict = rf_clf.predict(X_test)\n",
    "\n",
    "print(\"For Random Forest classifier\")\n",
    "print(\"Precision score: \", precision_score(y_test, y_predict))\n",
    "print(\"Recall score: \", recall_score(y_test, y_predict))"
   ]
  }
 ],
 "metadata": {
  "interpreter": {
   "hash": "ac59ebe37160ed0dfa835113d9b8498d9f09ceb179beaac4002f036b9467c963"
  },
  "kernelspec": {
   "display_name": "Python 3.9.8 64-bit",
   "language": "python",
   "name": "python3"
  },
  "language_info": {
   "codemirror_mode": {
    "name": "ipython",
    "version": 3
   },
   "file_extension": ".py",
   "mimetype": "text/x-python",
   "name": "python",
   "nbconvert_exporter": "python",
   "pygments_lexer": "ipython3",
   "version": "3.9.8"
  },
  "orig_nbformat": 4
 },
 "nbformat": 4,
 "nbformat_minor": 2
}
